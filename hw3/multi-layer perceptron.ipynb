{
 "cells": [
  {
   "cell_type": "code",
   "execution_count": 8,
   "metadata": {},
   "outputs": [
    {
     "name": "stdout",
     "output_type": "stream",
     "text": [
      "Extracting /Users/xing/Desktop/test/train-images-idx3-ubyte.gz\n",
      "Extracting /Users/xing/Desktop/test/train-labels-idx1-ubyte.gz\n",
      "Extracting /Users/xing/Desktop/test/t10k-images-idx3-ubyte.gz\n",
      "Extracting /Users/xing/Desktop/test/t10k-labels-idx1-ubyte.gz\n"
     ]
    },
    {
     "name": "stderr",
     "output_type": "stream",
     "text": [
      "/Library/Python/2.7/site-packages/ipykernel_launcher.py:78: RuntimeWarning: divide by zero encountered in double_scalars\n"
     ]
    },
    {
     "name": "stdout",
     "output_type": "stream",
     "text": [
      "iteration : 0001 loss=inf\n",
      "iteration : 1001 loss=1.435184905\n",
      "iteration : 2001 loss=0.256664332\n",
      "iteration : 3001 loss=0.118810478\n",
      "Optimization has  Finished Done !\n",
      "Test error : 0.037699997425079346\n",
      "Train error: 0.03463637828826904\n"
     ]
    }
   ],
   "source": [
    "from __future__ import print_function\n",
    "# Import MNIST data and download to local directory\n",
    "from tensorflow.examples.tutorials.mnist import input_data\n",
    "mnist = input_data.read_data_sets(\"/Users/xing/Desktop/test\", one_hot=True)\n",
    "import tensorflow as tf\n",
    "import math as math\n",
    "# Parameters\n",
    "learning_rate = 0.001\n",
    "training_loop = 4000\n",
    "batch_size = 100\n",
    "display_step = 1000\n",
    "\n",
    "# Network Parameters\n",
    "n_hidden1 = 250 # 1st layer number of neurons\n",
    "n_hidden2 = int(n_hidden1*0.5) # 2nd layer number of neurons\n",
    "n_input = 784 # MNIST data input (img shape: 28*28)\n",
    "n_classes = 10 # MNIST total classes (0-9 )\n",
    "\n",
    "# tf Graph input\n",
    "x = tf.placeholder(\"float\", [None, n_input])\n",
    "y = tf.placeholder(\"float\", [None, n_classes])\n",
    "\n",
    "# weight & bias\n",
    "weights = {\n",
    "    'h1': tf.Variable(tf.random_normal([n_input, n_hidden1],stddev=math.sqrt(2.0/(n_input)))),\n",
    "    'h2': tf.Variable(tf.random_normal([n_hidden1, n_hidden2],stddev=math.sqrt(2.0/(n_hidden1)))),\n",
    "    'out': tf.Variable(tf.random_normal([n_hidden2, n_classes]))\n",
    "}\n",
    "biases = {\n",
    "    'b1': tf.Variable(tf.random_normal([n_hidden1])),\n",
    "    'b2': tf.Variable(tf.random_normal([n_hidden2])),\n",
    "    'out': tf.Variable(tf.random_normal([n_classes]))\n",
    "}\n",
    "\n",
    "# connect to hidden layer1  and hidden layer2 and get ouput layer\n",
    "hidden_layer1= tf.add(tf.matmul(x, weights['h1']), biases['b1'])\n",
    "hidden_layer1= tf.nn.relu(hidden_layer1)\n",
    "\n",
    "# the second layer, number of neuro decrease half\n",
    "hidden_layer2 = tf.add(tf.matmul(hidden_layer1, weights['h2']), biases['b2'])\n",
    "hidden_layer2 = tf.nn.relu(hidden_layer2)\n",
    "\n",
    "#connect to output layer\n",
    "out_layer = tf.matmul(hidden_layer2, weights['out']) + biases['out']\n",
    "\n",
    "#define loss and optimizer\n",
    "loss = tf.reduce_mean(tf.nn.softmax_cross_entropy_with_logits(logits=out_layer, labels=y))\n",
    "\n",
    "#implement L2 regression\n",
    "beta=0.01\n",
    "regression_L2 = tf.nn.l2_loss(weights['h1']) + tf.nn.l2_loss(weights['h2'])\n",
    "loss= tf.reduce_mean(loss + beta * regression_L2)\n",
    "\n",
    "\n",
    "optimizer = tf.train.AdamOptimizer(learning_rate=learning_rate)\n",
    "\n",
    "train_step=optimizer.minimize(loss)\n",
    "\n",
    "# Initializing all the variables\n",
    "init = tf.global_variables_initializer()\n",
    "\n",
    "#create a session\n",
    "with tf.Session() as sess:\n",
    "    # create initialized variables\n",
    "    sess.run(init)\n",
    "    #train cycle\n",
    "    avg_loss=0\n",
    "    for i in range(training_loop):\n",
    "        #scan all batch\n",
    "        batch_x, batch_y = mnist.train.next_batch(batch_size)\n",
    "        # Run optimization op (backprop) and cost op (to get loss value)\n",
    "        _,c= sess.run([train_step, loss], feed_dict={x: batch_x,\n",
    "                                                  y: batch_y})\n",
    "        # Compute average loss\n",
    "        avg_loss += c\n",
    "        # Display logs per display step\n",
    "        if i % display_step == 0:\n",
    "            avg_loss=avg_loss/i\n",
    "            print(\"iteration :\", '%04d' % (i+1), \"loss={:.9f}\".format(avg_loss))\n",
    "            avg_loss=0\n",
    "    print(\"Optimization has  Finished Done !\")\n",
    "    #caculate train and test error\n",
    "    correct_prediction = tf.equal(tf.argmax(out_layer, 1),  tf.argmax(y, 1))\n",
    "    accuracy = tf.reduce_mean(tf.cast(correct_prediction, tf.float32))\n",
    "    print(\"Test error :\", 1-accuracy.eval({x: mnist.test.images, y: mnist.test.labels}))\n",
    "    print(\"Train error:\", 1-accuracy.eval({x: mnist.train.images, y: mnist.train.labels}))"
   ]
  },
  {
   "cell_type": "code",
   "execution_count": null,
   "metadata": {},
   "outputs": [],
   "source": []
  },
  {
   "cell_type": "code",
   "execution_count": null,
   "metadata": {},
   "outputs": [],
   "source": []
  },
  {
   "cell_type": "code",
   "execution_count": null,
   "metadata": {},
   "outputs": [],
   "source": []
  }
 ],
 "metadata": {
  "kernelspec": {
   "display_name": "Python 2",
   "language": "python",
   "name": "python2"
  },
  "language_info": {
   "codemirror_mode": {
    "name": "ipython",
    "version": 2
   },
   "file_extension": ".py",
   "mimetype": "text/x-python",
   "name": "python",
   "nbconvert_exporter": "python",
   "pygments_lexer": "ipython2",
   "version": "2.7.10"
  }
 },
 "nbformat": 4,
 "nbformat_minor": 2
}
