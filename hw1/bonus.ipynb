{
 "cells": [
  {
   "cell_type": "code",
   "execution_count": 1,
   "metadata": {},
   "outputs": [
    {
     "name": "stdout",
     "output_type": "stream",
     "text": [
      "Z=  -1.3369438797662154\n",
      "R[ 0 ]   4.148148148148148\n",
      "R[ 1 ]   2.3333333333333335\n",
      "R[ 2 ]   2.888888888888889\n",
      "R[ 3 ]   2.814814814814815\n",
      "R[ 4 ]   4.555555555555555\n",
      "R[ 5 ]   4.518518518518518\n",
      "CD is  0.687386354243\n",
      "Xf statistical value is 49.63374485596705\n",
      "F statistical value is:  22.109990834097136\n",
      "Matric degree is: ( 4 , 104 )\n"
     ]
    }
   ],
   "source": [
    "import numpy as np\n",
    "from sklearn.naive_bayes import GaussianNB\n",
    "from sklearn import datasets\n",
    "import math\n",
    "data = np.genfromtxt('/Users/xing/Desktop/hw1-scores.txt', delimiter=',')\n",
    "rank=np.copy(data)\n",
    "R1=0\n",
    "R0=0\n",
    "\n",
    "# caculate R+, R-, elemenet rank for each row\n",
    "for i in np.arange(len(data)):\n",
    "    for j in np.arange(len(data[0])):\n",
    "        if j+1<len(data[0]) and data[i][j]>data[i][j+1] :\n",
    "            R1+=data[i][j]-data[i][j+1]\n",
    "        else :\n",
    "            if j+1<len(data[0]) :\n",
    "                R0+=data[i][j+1]-data[i][j]\n",
    "        rank[i][j]=0\n",
    "        for k in np.arange(len(data[0])):\n",
    "            if data[i][j]>=data[i][k]:\n",
    "                rank[i][j]+=1\n",
    "       # print \"rank \",rank[i][j]\n",
    "T=min(R1,R0)\n",
    "N=len(rank)\n",
    "K=len(data[0])\n",
    "# cacualte Z\n",
    "Z=(T-0.25*N*(N-1))/(math.sqrt(N*(N+1)*(2*N+1)*1/24))\n",
    "print \"Z= \", Z\n",
    "\n",
    "\n",
    "#cacute sum Ri \n",
    "avgRank=[]\n",
    "for i in np.arange(len(data[0])):\n",
    "    avgRank.append(np.sum(rank[:,i])/len(rank))\n",
    "    print 'R[',i,\"]  \",avgRank[i]\n",
    "SqRank=np.square(avgRank)\n",
    "Xf=12*N/(K*(K+1))*(np.sum(SqRank)-(K*(K+1)**2/4))\n",
    "F=(N-1)*Xf/(N*(k-1)-Xf)\n",
    "CD=0.05*math.sqrt((K*(K+1)/6*N))\n",
    "\n",
    "print \"CD is \",CD\n",
    "print 'Xf statistical value is',abs(Xf)\n",
    "print 'F statistical value is: ',abs(F)\n",
    "print 'Matric degree is: (', k-1,',',(k-1)*(N-1),')'"
   ]
  },
  {
   "cell_type": "code",
   "execution_count": null,
   "metadata": {},
   "outputs": [],
   "source": []
  }
 ],
 "metadata": {
  "kernelspec": {
   "display_name": "Python 2",
   "language": "python",
   "name": "python2"
  },
  "language_info": {
   "codemirror_mode": {
    "name": "ipython",
    "version": 2
   },
   "file_extension": ".py",
   "mimetype": "text/x-python",
   "name": "python",
   "nbconvert_exporter": "python",
   "pygments_lexer": "ipython2",
   "version": "2.7.10"
  }
 },
 "nbformat": 4,
 "nbformat_minor": 2
}
