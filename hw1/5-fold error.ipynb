{
 "cells": [
  {
   "cell_type": "code",
   "execution_count": 3,
   "metadata": {},
   "outputs": [
    {
     "name": "stdout",
     "output_type": "stream",
     "text": [
      "0 fold Error:  0.1875\n",
      "1 fold Error:  0.2078804347826087\n",
      "2 fold Error:  0.17119565217391305\n",
      "3 fold Error:  0.19157608695652173\n",
      "4 fold Error:  0.20923913043478262\n",
      "5-fold cross fold Avg Error: 0.1934782608695652\n"
     ]
    }
   ],
   "source": [
    "from sklearn.model_selection import cross_validate\n",
    "from sklearn.cross_validation import  cross_val_predict\n",
    "from sklearn import metrics\n",
    "from sklearn.naive_bayes import GaussianNB\n",
    "import pandas as pd\n",
    "import numpy as np\n",
    "from sklearn.model_selection import KFold\n",
    "\n",
    "\n",
    "\n",
    "# read the data file and transform the format\n",
    "dataframe = pd.read_csv(\"/Users/xing/Desktop/test/spambase_train.csv\", header=None)\n",
    "dataset = dataframe.values\n",
    "X = dataset[:, 1:57].astype(float)\n",
    "Y1 = dataset[:, 57]\n",
    "\n",
    "# 5 fold \n",
    "k_fold=KFold(5)\n",
    "#implement naive Gaussian Bay rule\n",
    "gnb = GaussianNB()\n",
    "\n",
    "ErrorRate=[]\n",
    "#using train set to do predict by  Gaussian, and caculate the error\n",
    "for k, (train, test) in enumerate(k_fold.split(X, Y1)):\n",
    "    y_pred = gnb.fit(X[train], Y1[train]).predict(X[test])\n",
    "    Res=np.sum(1.*(y_pred != Y1[test]))/len(y_pred)\n",
    "    ErrorRate.append(Res)\n",
    "    print k,\"fold Error: \", Res\n",
    "\n",
    "print \"5-fold cross fold Avg Error:\", np.sum(ErrorRate)/5 \n",
    "\n",
    "\n",
    "# following code, implement cross_validata function, which can not exactly answer\n",
    "#predictions=gnb.predict(X)\n",
    "#scores = cross_validate(gnb, dataset, Y1, cv=5)\n",
    "#print scores\n",
    "#predictions = cross_val_predict(gnb, dataframe, Y1, cv=5)\n",
    "#accuracy = metrics.r2_score(Y1, predictions)\n",
    "#print '5-fold cross validation error :', 1-accuracy"
   ]
  },
  {
   "cell_type": "code",
   "execution_count": null,
   "metadata": {},
   "outputs": [],
   "source": []
  }
 ],
 "metadata": {
  "kernelspec": {
   "display_name": "Python 2",
   "language": "python",
   "name": "python2"
  },
  "language_info": {
   "codemirror_mode": {
    "name": "ipython",
    "version": 2
   },
   "file_extension": ".py",
   "mimetype": "text/x-python",
   "name": "python",
   "nbconvert_exporter": "python",
   "pygments_lexer": "ipython2",
   "version": "2.7.10"
  }
 },
 "nbformat": 4,
 "nbformat_minor": 2
}
