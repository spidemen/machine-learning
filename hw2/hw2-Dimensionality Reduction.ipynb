{
 "cells": [
  {
   "cell_type": "code",
   "execution_count": 27,
   "metadata": {},
   "outputs": [
    {
     "name": "stdout",
     "output_type": "stream",
     "text": [
      "filename       5 fold cross validate accuracy        Logisitc Regresssgion accuracy\n",
      "bank.csv      0.8230521194934728                      0.8953771289537713\n",
      "hepatitis.csv      0.6258064516129032                      0.8903225806451613\n",
      "balloons.csv      0.5833333333333334                      0.875\n",
      "magic.csv      0.7145110410094637                      0.791062039957939\n",
      "acute-nephritis.csv      0.9166666666666666                      1.0\n",
      "connect-4.csv      0.6435885278924758                      0.7543555812129017\n",
      "breast-cancer.csv      0.5754990925589837                      0.7342657342657343\n",
      "blood.csv      0.7541387024608501                      0.7713903743315508\n",
      "chess-krvkp.csv      0.7189358372456964                      0.9740300375469336\n",
      "spambase_train.csv      0.8067934782608696                      0.9258152173913043\n"
     ]
    }
   ],
   "source": [
    "from sklearn.model_selection import cross_validate\n",
    "from sklearn.cross_validation import  cross_val_predict\n",
    "from sklearn import metrics\n",
    "from sklearn.naive_bayes import GaussianNB\n",
    "import pandas as pd\n",
    "import numpy as np\n",
    "import os\n",
    "from sklearn.model_selection import KFold\n",
    "from sklearn.linear_model import LogisticRegression\n",
    "\n",
    "def ClassifierAccury(filename):\n",
    "    # read the data file and transform the format\n",
    "    dataframe = pd.read_csv(filename, header=None)\n",
    "    dataset = dataframe.values\n",
    "    Col=len(dataset[0])-1\n",
    "    X = dataset[:, 0:Col].astype(float)\n",
    "    Y1 = dataset[:, Col]\n",
    "    Xx=dataset[:, 0:Col].astype(float)\n",
    "    Yy=dataset[:, Col]\n",
    "    # 5 fold \n",
    "    k_fold=KFold(5)\n",
    "   #implement naive Gaussian Bay rule\n",
    "    gnb = GaussianNB()\n",
    "    ErrorRate=[]\n",
    "   #using train set to do predict by  Gaussian, and caculate the accury\n",
    "    for k, (train, test) in enumerate(k_fold.split(X, Y1)):\n",
    "        y_pred = gnb.fit(X[train], Y1[train]).predict(X[test])\n",
    "        Res=np.sum(1.*(y_pred != Y1[test]))/len(y_pred)\n",
    "        ErrorRate.append(Res)\n",
    "    accury1=1-np.sum(ErrorRate)/5\n",
    "    #print accury1\n",
    "    #using logistic regression classifier, caculate accury\n",
    "    lr = LogisticRegression()\n",
    "    lr.fit(X, Y1,sample_weight=None)\n",
    "    accury2=lr.score(Xx,Yy)\n",
    "    #print accury2\n",
    "    return (accury1,accury2)\n",
    "path=\"/Users/xing/Desktop/test/\"\n",
    "fileset= os.listdir(path)\n",
    "#print fileset\n",
    "print \"filename       5 fold cross validate accuracy        Logisitc Regresssgion accuracy\"\n",
    "for filename in fileset :\n",
    "    if filename.find(\".csv\")==-1 :\n",
    "        continue\n",
    "    filename1=path+filename\n",
    "   \n",
    "    accury1,accury2=ClassifierAccury(filename1)\n",
    "    print  filename,\"    \",accury1,\"                    \",accury2"
   ]
  },
  {
   "cell_type": "code",
   "execution_count": null,
   "metadata": {},
   "outputs": [],
   "source": []
  },
  {
   "cell_type": "code",
   "execution_count": null,
   "metadata": {},
   "outputs": [],
   "source": []
  }
 ],
 "metadata": {
  "kernelspec": {
   "display_name": "Python 2",
   "language": "python",
   "name": "python2"
  },
  "language_info": {
   "codemirror_mode": {
    "name": "ipython",
    "version": 2
   },
   "file_extension": ".py",
   "mimetype": "text/x-python",
   "name": "python",
   "nbconvert_exporter": "python",
   "pygments_lexer": "ipython2",
   "version": "2.7.10"
  }
 },
 "nbformat": 4,
 "nbformat_minor": 2
}
